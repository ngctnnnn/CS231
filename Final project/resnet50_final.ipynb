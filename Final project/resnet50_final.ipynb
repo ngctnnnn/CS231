{
 "cells": [
  {
   "cell_type": "code",
   "execution_count": 1,
   "metadata": {
    "id": "HvrN1LLmJKro"
   },
   "outputs": [],
   "source": [
    "import tensorflow as tf\n",
    "import pandas as pd\n",
    "import numpy as np\n",
    "import matplotlib.pyplot as plt\n",
    "import pandas as pd\n",
    "from sklearn.model_selection import train_test_split\n",
    "from tensorflow.keras.layers import Conv2D,Flatten,MaxPool2D,BatchNormalization,GlobalAveragePooling2D, Dense, Dropout\n",
    "from tensorflow.keras.callbacks import EarlyStopping, ModelCheckpoint, ReduceLROnPlateau\n",
    "from tensorflow.keras.optimizers import Adam\n",
    "from tensorflow.keras.preprocessing.image import ImageDataGenerator\n",
    "import os\n",
    "from tensorflow.keras.applications import ResNet50V2\n",
    "from sklearn.metrics import confusion_matrix, classification_report\n",
    "import seaborn as sns\n",
    "sns.set_style('darkgrid')\n",
    "from keras.models import load_model"
   ]
  },
  {
   "cell_type": "markdown",
   "metadata": {
    "id": "dQMs806h-KbI"
   },
   "source": []
  },
  {
   "cell_type": "code",
   "execution_count": 2,
   "metadata": {
    "id": "p6eLYawPi5WZ"
   },
   "outputs": [],
   "source": [
    "# from google.colab import drive\n",
    "# drive.mount('/content/drive')"
   ]
  },
  {
   "cell_type": "code",
   "execution_count": 3,
   "metadata": {
    "id": "kgRqSdPvZ5Bx"
   },
   "outputs": [],
   "source": [
    "train_df = pd.read_csv('train_split.txt', sep=\" \", header=None)\n",
    "train_df.columns = ['patient id', 'file_paths', 'labels', 'data source']\n",
    "train_df = train_df.drop(['patient id', 'data source'], axis=1)"
   ]
  },
  {
   "cell_type": "code",
   "execution_count": 4,
   "metadata": {
    "colab": {
     "base_uri": "https://localhost:8080/",
     "height": 204
    },
    "executionInfo": {
     "elapsed": 377,
     "status": "ok",
     "timestamp": 1624269002065,
     "user": {
      "displayName": "An Võ Khánh",
      "photoUrl": "https://lh3.googleusercontent.com/a-/AOh14GgNIta8szV9jGQWGyYFClGX1pXYlX0x-Gk_3xI=s64",
      "userId": "03935501821652710257"
     },
     "user_tz": -420
    },
    "id": "1l9E6nk0Z5Hp",
    "outputId": "f54c523e-61b9-448b-b0a0-0e3963267715"
   },
   "outputs": [
    {
     "data": {
      "text/html": [
       "<div>\n",
       "<style scoped>\n",
       "    .dataframe tbody tr th:only-of-type {\n",
       "        vertical-align: middle;\n",
       "    }\n",
       "\n",
       "    .dataframe tbody tr th {\n",
       "        vertical-align: top;\n",
       "    }\n",
       "\n",
       "    .dataframe thead th {\n",
       "        text-align: right;\n",
       "    }\n",
       "</style>\n",
       "<table border=\"1\" class=\"dataframe\">\n",
       "  <thead>\n",
       "    <tr style=\"text-align: right;\">\n",
       "      <th></th>\n",
       "      <th>file_paths</th>\n",
       "      <th>labels</th>\n",
       "    </tr>\n",
       "  </thead>\n",
       "  <tbody>\n",
       "    <tr>\n",
       "      <th>0</th>\n",
       "      <td>SARS-10.1148rg.242035193-g04mr34g0-Fig8b-day5....</td>\n",
       "      <td>pneumonia</td>\n",
       "    </tr>\n",
       "    <tr>\n",
       "      <th>1</th>\n",
       "      <td>SARS-10.1148rg.242035193-g04mr34g0-Fig8c-day10...</td>\n",
       "      <td>pneumonia</td>\n",
       "    </tr>\n",
       "    <tr>\n",
       "      <th>2</th>\n",
       "      <td>SARS-10.1148rg.242035193-g04mr34g04a-Fig4a-day...</td>\n",
       "      <td>pneumonia</td>\n",
       "    </tr>\n",
       "    <tr>\n",
       "      <th>3</th>\n",
       "      <td>SARS-10.1148rg.242035193-g04mr34g04b-Fig4b-day...</td>\n",
       "      <td>pneumonia</td>\n",
       "    </tr>\n",
       "    <tr>\n",
       "      <th>4</th>\n",
       "      <td>SARS-10.1148rg.242035193-g04mr34g07a-Fig7a-day...</td>\n",
       "      <td>pneumonia</td>\n",
       "    </tr>\n",
       "  </tbody>\n",
       "</table>\n",
       "</div>"
      ],
      "text/plain": [
       "                                          file_paths     labels\n",
       "0  SARS-10.1148rg.242035193-g04mr34g0-Fig8b-day5....  pneumonia\n",
       "1  SARS-10.1148rg.242035193-g04mr34g0-Fig8c-day10...  pneumonia\n",
       "2  SARS-10.1148rg.242035193-g04mr34g04a-Fig4a-day...  pneumonia\n",
       "3  SARS-10.1148rg.242035193-g04mr34g04b-Fig4b-day...  pneumonia\n",
       "4  SARS-10.1148rg.242035193-g04mr34g07a-Fig7a-day...  pneumonia"
      ]
     },
     "execution_count": 4,
     "metadata": {},
     "output_type": "execute_result"
    }
   ],
   "source": [
    "train_df.head()"
   ]
  },
  {
   "cell_type": "code",
   "execution_count": 5,
   "metadata": {
    "id": "30f_QRBCZ5KW"
   },
   "outputs": [],
   "source": [
    "test_df = pd.read_csv('test_split.txt', sep=\" \", header=None)\n",
    "test_df.columns = ['patient id', 'file_paths', 'labels', 'data source']\n",
    "test_df = test_df.drop(['patient id', 'data source'], axis=1)"
   ]
  },
  {
   "cell_type": "code",
   "execution_count": 6,
   "metadata": {
    "colab": {
     "base_uri": "https://localhost:8080/",
     "height": 204
    },
    "executionInfo": {
     "elapsed": 5,
     "status": "ok",
     "timestamp": 1624269007528,
     "user": {
      "displayName": "An Võ Khánh",
      "photoUrl": "https://lh3.googleusercontent.com/a-/AOh14GgNIta8szV9jGQWGyYFClGX1pXYlX0x-Gk_3xI=s64",
      "userId": "03935501821652710257"
     },
     "user_tz": -420
    },
    "id": "eIpjxB3VZ5Oj",
    "outputId": "85243fbb-8bd1-4956-97e4-299b771b4672"
   },
   "outputs": [
    {
     "data": {
      "text/html": [
       "<div>\n",
       "<style scoped>\n",
       "    .dataframe tbody tr th:only-of-type {\n",
       "        vertical-align: middle;\n",
       "    }\n",
       "\n",
       "    .dataframe tbody tr th {\n",
       "        vertical-align: top;\n",
       "    }\n",
       "\n",
       "    .dataframe thead th {\n",
       "        text-align: right;\n",
       "    }\n",
       "</style>\n",
       "<table border=\"1\" class=\"dataframe\">\n",
       "  <thead>\n",
       "    <tr style=\"text-align: right;\">\n",
       "      <th></th>\n",
       "      <th>file_paths</th>\n",
       "      <th>labels</th>\n",
       "    </tr>\n",
       "  </thead>\n",
       "  <tbody>\n",
       "    <tr>\n",
       "      <th>0</th>\n",
       "      <td>SARS-10.1148rg.242035193-g04mr34g05x-Fig5-day9...</td>\n",
       "      <td>pneumonia</td>\n",
       "    </tr>\n",
       "    <tr>\n",
       "      <th>1</th>\n",
       "      <td>streptococcus-pneumoniae-pneumonia-temporal-ev...</td>\n",
       "      <td>pneumonia</td>\n",
       "    </tr>\n",
       "    <tr>\n",
       "      <th>2</th>\n",
       "      <td>streptococcus-pneumoniae-pneumonia-temporal-ev...</td>\n",
       "      <td>pneumonia</td>\n",
       "    </tr>\n",
       "    <tr>\n",
       "      <th>3</th>\n",
       "      <td>streptococcus-pneumoniae-pneumonia-temporal-ev...</td>\n",
       "      <td>pneumonia</td>\n",
       "    </tr>\n",
       "    <tr>\n",
       "      <th>4</th>\n",
       "      <td>streptococcus-pneumoniae-pneumonia-temporal-ev...</td>\n",
       "      <td>pneumonia</td>\n",
       "    </tr>\n",
       "  </tbody>\n",
       "</table>\n",
       "</div>"
      ],
      "text/plain": [
       "                                          file_paths     labels\n",
       "0  SARS-10.1148rg.242035193-g04mr34g05x-Fig5-day9...  pneumonia\n",
       "1  streptococcus-pneumoniae-pneumonia-temporal-ev...  pneumonia\n",
       "2  streptococcus-pneumoniae-pneumonia-temporal-ev...  pneumonia\n",
       "3  streptococcus-pneumoniae-pneumonia-temporal-ev...  pneumonia\n",
       "4  streptococcus-pneumoniae-pneumonia-temporal-ev...  pneumonia"
      ]
     },
     "execution_count": 6,
     "metadata": {},
     "output_type": "execute_result"
    }
   ],
   "source": [
    "test_df.head()"
   ]
  },
  {
   "cell_type": "code",
   "execution_count": 7,
   "metadata": {
    "id": "49ge4OoX5bX1"
   },
   "outputs": [],
   "source": [
    "TRAIN_PATH = \"data/train\"\n",
    "TEST_PATH = \"data/test\""
   ]
  },
  {
   "cell_type": "markdown",
   "metadata": {
    "id": "IZL8T9vjeAD4"
   },
   "source": [
    "# Balancing Classes"
   ]
  },
  {
   "cell_type": "code",
   "execution_count": 8,
   "metadata": {
    "colab": {
     "base_uri": "https://localhost:8080/"
    },
    "executionInfo": {
     "elapsed": 379,
     "status": "ok",
     "timestamp": 1624269015437,
     "user": {
      "displayName": "An Võ Khánh",
      "photoUrl": "https://lh3.googleusercontent.com/a-/AOh14GgNIta8szV9jGQWGyYFClGX1pXYlX0x-Gk_3xI=s64",
      "userId": "03935501821652710257"
     },
     "user_tz": -420
    },
    "id": "3hBZWDsmdP3j",
    "outputId": "ec132557-18d0-4211-cc08-5c60b3191b47"
   },
   "outputs": [
    {
     "data": {
      "text/plain": [
       "normal       8751\n",
       "pneumonia    5963\n",
       "COVID-19     4649\n",
       "Name: labels, dtype: int64"
      ]
     },
     "execution_count": 8,
     "metadata": {},
     "output_type": "execute_result"
    }
   ],
   "source": [
    "train_df['labels'].value_counts()"
   ]
  },
  {
   "cell_type": "code",
   "execution_count": 9,
   "metadata": {
    "colab": {
     "base_uri": "https://localhost:8080/"
    },
    "executionInfo": {
     "elapsed": 10,
     "status": "ok",
     "timestamp": 1624269015438,
     "user": {
      "displayName": "An Võ Khánh",
      "photoUrl": "https://lh3.googleusercontent.com/a-/AOh14GgNIta8szV9jGQWGyYFClGX1pXYlX0x-Gk_3xI=s64",
      "userId": "03935501821652710257"
     },
     "user_tz": -420
    },
    "id": "og5N64BVekxV",
    "outputId": "8fa5bf5f-8e1d-4c3d-fa55-237a3021bcc0"
   },
   "outputs": [
    {
     "name": "stdout",
     "output_type": "stream",
     "text": [
      "normal       4649\n",
      "COVID-19     4649\n",
      "pneumonia    4649\n",
      "Name: labels, dtype: int64\n",
      "13947\n"
     ]
    }
   ],
   "source": [
    "file_count = 4649\n",
    "samples = []\n",
    "for category in train_df['labels'].unique():\n",
    "    category_slice = train_df.query(\"labels == @category\")\n",
    "    samples.append(category_slice.sample(file_count, replace=False, random_state=1))\n",
    "train_df = pd.concat(samples, axis=0).sample(frac=1.0, random_state=1).reset_index(drop=True)\n",
    "print(train_df['labels'].value_counts())\n",
    "print(len(train_df))"
   ]
  },
  {
   "cell_type": "markdown",
   "metadata": {
    "id": "HEVgLFzSf3Il"
   },
   "source": [
    "# Spliting train_df into train_df and valid_df"
   ]
  },
  {
   "cell_type": "code",
   "execution_count": 10,
   "metadata": {
    "id": "RhLfoK_-f2IA"
   },
   "outputs": [],
   "source": [
    "train_df, valid_df = train_test_split(train_df, train_size=0.9, random_state=0)"
   ]
  },
  {
   "cell_type": "code",
   "execution_count": 11,
   "metadata": {
    "colab": {
     "base_uri": "https://localhost:8080/"
    },
    "executionInfo": {
     "elapsed": 3,
     "status": "ok",
     "timestamp": 1624269018737,
     "user": {
      "displayName": "An Võ Khánh",
      "photoUrl": "https://lh3.googleusercontent.com/a-/AOh14GgNIta8szV9jGQWGyYFClGX1pXYlX0x-Gk_3xI=s64",
      "userId": "03935501821652710257"
     },
     "user_tz": -420
    },
    "id": "lV3nA8FQgKu0",
    "outputId": "d08215d2-48ce-465e-e8b7-99224dac0a94"
   },
   "outputs": [
    {
     "name": "stdout",
     "output_type": "stream",
     "text": [
      "COVID-19     4213\n",
      "normal       4189\n",
      "pneumonia    4150\n",
      "Name: labels, dtype: int64\n",
      "pneumonia    499\n",
      "normal       460\n",
      "COVID-19     436\n",
      "Name: labels, dtype: int64\n",
      "COVID-19     274\n",
      "pneumonia    105\n",
      "normal       100\n",
      "Name: labels, dtype: int64\n"
     ]
    }
   ],
   "source": [
    "print(train_df.labels.value_counts())\n",
    "print(valid_df.labels.value_counts())\n",
    "print(test_df.labels.value_counts())"
   ]
  },
  {
   "cell_type": "markdown",
   "metadata": {
    "id": "1iivWWhAgjM2"
   },
   "source": [
    "# Image Data Generators"
   ]
  },
  {
   "cell_type": "code",
   "execution_count": 12,
   "metadata": {
    "id": "WrjpfEOwrA36"
   },
   "outputs": [],
   "source": [
    "batch_size = 32\n",
    "img_height = 224\n",
    "img_width = 224\n",
    "target_size = (img_height, img_width)"
   ]
  },
  {
   "cell_type": "code",
   "execution_count": 13,
   "metadata": {
    "id": "AEpQjT0x4S-x"
   },
   "outputs": [],
   "source": [
    "train_datagen = ImageDataGenerator(preprocessing_function=tf.keras.applications.resnet_v2.preprocess_input, \n",
    "                                   horizontal_flip=True, zoom_range=0.1)\n",
    "test_datagen = ImageDataGenerator(preprocessing_function=tf.keras.applications.resnet_v2.preprocess_input)"
   ]
  },
  {
   "cell_type": "code",
   "execution_count": 14,
   "metadata": {
    "colab": {
     "base_uri": "https://localhost:8080/"
    },
    "executionInfo": {
     "elapsed": 113718,
     "status": "ok",
     "timestamp": 1624269134957,
     "user": {
      "displayName": "An Võ Khánh",
      "photoUrl": "https://lh3.googleusercontent.com/a-/AOh14GgNIta8szV9jGQWGyYFClGX1pXYlX0x-Gk_3xI=s64",
      "userId": "03935501821652710257"
     },
     "user_tz": -420
    },
    "id": "bSehoEydoLbv",
    "outputId": "204212b9-a231-4eec-8284-0e06fba97b5b"
   },
   "outputs": [
    {
     "name": "stdout",
     "output_type": "stream",
     "text": [
      "Found 12552 validated image filenames belonging to 3 classes.\n",
      "Found 1395 validated image filenames belonging to 3 classes.\n",
      "Found 479 validated image filenames belonging to 3 classes.\n"
     ]
    }
   ],
   "source": [
    "train_generator = train_datagen.flow_from_dataframe(train_df, directory=TRAIN_PATH, x_col='file_paths', y_col='labels',\n",
    "                                                    target_size=target_size, batch_size=batch_size, color_mode='rgb', class_mode='categorical')\n",
    "\n",
    "valid_generator = test_datagen.flow_from_dataframe(valid_df, directory=TRAIN_PATH, x_col='file_paths', y_col='labels',\n",
    "                                                    target_size=target_size, batch_size=batch_size, color_mode='rgb', class_mode='categorical')\n",
    "\n",
    "test_generator = test_datagen.flow_from_dataframe(test_df, directory=TEST_PATH, x_col='file_paths', y_col='labels',\n",
    "                                                    target_size=target_size, batch_size=batch_size, color_mode='rgb', class_mode='categorical')"
   ]
  },
  {
   "cell_type": "markdown",
   "metadata": {
    "id": "uUmEb9kzieWG"
   },
   "source": [
    "# Create Model"
   ]
  },
  {
   "cell_type": "code",
   "execution_count": 15,
   "metadata": {
    "id": "9p8cpBnQiduA"
   },
   "outputs": [],
   "source": [
    "base_model = ResNet50V2(include_top=False, weights=\"imagenet\", input_shape=(img_height, img_width, 3))\n",
    "\n",
    "for layer in base_model.layers[:190]:\n",
    "    layer.trainable = False"
   ]
  },
  {
   "cell_type": "code",
   "execution_count": 16,
   "metadata": {
    "colab": {
     "base_uri": "https://localhost:8080/"
    },
    "executionInfo": {
     "elapsed": 6,
     "status": "ok",
     "timestamp": 1624269172347,
     "user": {
      "displayName": "An Võ Khánh",
      "photoUrl": "https://lh3.googleusercontent.com/a-/AOh14GgNIta8szV9jGQWGyYFClGX1pXYlX0x-Gk_3xI=s64",
      "userId": "03935501821652710257"
     },
     "user_tz": -420
    },
    "id": "vP9_4Z3aEOnL",
    "outputId": "2ff637f0-1bb2-44ab-9b44-0bfab38145c9"
   },
   "outputs": [
    {
     "name": "stdout",
     "output_type": "stream",
     "text": [
      "0 input_1 - False\n",
      "1 conv1_pad - False\n",
      "2 conv1_conv - False\n",
      "3 pool1_pad - False\n",
      "4 pool1_pool - False\n",
      "5 conv2_block1_preact_bn - False\n",
      "6 conv2_block1_preact_relu - False\n",
      "7 conv2_block1_1_conv - False\n",
      "8 conv2_block1_1_bn - False\n",
      "9 conv2_block1_1_relu - False\n",
      "10 conv2_block1_2_pad - False\n",
      "11 conv2_block1_2_conv - False\n",
      "12 conv2_block1_2_bn - False\n",
      "13 conv2_block1_2_relu - False\n",
      "14 conv2_block1_0_conv - False\n",
      "15 conv2_block1_3_conv - False\n",
      "16 conv2_block1_out - False\n",
      "17 conv2_block2_preact_bn - False\n",
      "18 conv2_block2_preact_relu - False\n",
      "19 conv2_block2_1_conv - False\n",
      "20 conv2_block2_1_bn - False\n",
      "21 conv2_block2_1_relu - False\n",
      "22 conv2_block2_2_pad - False\n",
      "23 conv2_block2_2_conv - False\n",
      "24 conv2_block2_2_bn - False\n",
      "25 conv2_block2_2_relu - False\n",
      "26 conv2_block2_3_conv - False\n",
      "27 conv2_block2_out - False\n",
      "28 conv2_block3_preact_bn - False\n",
      "29 conv2_block3_preact_relu - False\n",
      "30 conv2_block3_1_conv - False\n",
      "31 conv2_block3_1_bn - False\n",
      "32 conv2_block3_1_relu - False\n",
      "33 conv2_block3_2_pad - False\n",
      "34 conv2_block3_2_conv - False\n",
      "35 conv2_block3_2_bn - False\n",
      "36 conv2_block3_2_relu - False\n",
      "37 max_pooling2d - False\n",
      "38 conv2_block3_3_conv - False\n",
      "39 conv2_block3_out - False\n",
      "40 conv3_block1_preact_bn - False\n",
      "41 conv3_block1_preact_relu - False\n",
      "42 conv3_block1_1_conv - False\n",
      "43 conv3_block1_1_bn - False\n",
      "44 conv3_block1_1_relu - False\n",
      "45 conv3_block1_2_pad - False\n",
      "46 conv3_block1_2_conv - False\n",
      "47 conv3_block1_2_bn - False\n",
      "48 conv3_block1_2_relu - False\n",
      "49 conv3_block1_0_conv - False\n",
      "50 conv3_block1_3_conv - False\n",
      "51 conv3_block1_out - False\n",
      "52 conv3_block2_preact_bn - False\n",
      "53 conv3_block2_preact_relu - False\n",
      "54 conv3_block2_1_conv - False\n",
      "55 conv3_block2_1_bn - False\n",
      "56 conv3_block2_1_relu - False\n",
      "57 conv3_block2_2_pad - False\n",
      "58 conv3_block2_2_conv - False\n",
      "59 conv3_block2_2_bn - False\n",
      "60 conv3_block2_2_relu - False\n",
      "61 conv3_block2_3_conv - False\n",
      "62 conv3_block2_out - False\n",
      "63 conv3_block3_preact_bn - False\n",
      "64 conv3_block3_preact_relu - False\n",
      "65 conv3_block3_1_conv - False\n",
      "66 conv3_block3_1_bn - False\n",
      "67 conv3_block3_1_relu - False\n",
      "68 conv3_block3_2_pad - False\n",
      "69 conv3_block3_2_conv - False\n",
      "70 conv3_block3_2_bn - False\n",
      "71 conv3_block3_2_relu - False\n",
      "72 conv3_block3_3_conv - False\n",
      "73 conv3_block3_out - False\n",
      "74 conv3_block4_preact_bn - False\n",
      "75 conv3_block4_preact_relu - False\n",
      "76 conv3_block4_1_conv - False\n",
      "77 conv3_block4_1_bn - False\n",
      "78 conv3_block4_1_relu - False\n",
      "79 conv3_block4_2_pad - False\n",
      "80 conv3_block4_2_conv - False\n",
      "81 conv3_block4_2_bn - False\n",
      "82 conv3_block4_2_relu - False\n",
      "83 max_pooling2d_1 - False\n",
      "84 conv3_block4_3_conv - False\n",
      "85 conv3_block4_out - False\n",
      "86 conv4_block1_preact_bn - False\n",
      "87 conv4_block1_preact_relu - False\n",
      "88 conv4_block1_1_conv - False\n",
      "89 conv4_block1_1_bn - False\n",
      "90 conv4_block1_1_relu - False\n",
      "91 conv4_block1_2_pad - False\n",
      "92 conv4_block1_2_conv - False\n",
      "93 conv4_block1_2_bn - False\n",
      "94 conv4_block1_2_relu - False\n",
      "95 conv4_block1_0_conv - False\n",
      "96 conv4_block1_3_conv - False\n",
      "97 conv4_block1_out - False\n",
      "98 conv4_block2_preact_bn - False\n",
      "99 conv4_block2_preact_relu - False\n",
      "100 conv4_block2_1_conv - False\n",
      "101 conv4_block2_1_bn - False\n",
      "102 conv4_block2_1_relu - False\n",
      "103 conv4_block2_2_pad - False\n",
      "104 conv4_block2_2_conv - False\n",
      "105 conv4_block2_2_bn - False\n",
      "106 conv4_block2_2_relu - False\n",
      "107 conv4_block2_3_conv - False\n",
      "108 conv4_block2_out - False\n",
      "109 conv4_block3_preact_bn - False\n",
      "110 conv4_block3_preact_relu - False\n",
      "111 conv4_block3_1_conv - False\n",
      "112 conv4_block3_1_bn - False\n",
      "113 conv4_block3_1_relu - False\n",
      "114 conv4_block3_2_pad - False\n",
      "115 conv4_block3_2_conv - False\n",
      "116 conv4_block3_2_bn - False\n",
      "117 conv4_block3_2_relu - False\n",
      "118 conv4_block3_3_conv - False\n",
      "119 conv4_block3_out - False\n",
      "120 conv4_block4_preact_bn - False\n",
      "121 conv4_block4_preact_relu - False\n",
      "122 conv4_block4_1_conv - False\n",
      "123 conv4_block4_1_bn - False\n",
      "124 conv4_block4_1_relu - False\n",
      "125 conv4_block4_2_pad - False\n",
      "126 conv4_block4_2_conv - False\n",
      "127 conv4_block4_2_bn - False\n",
      "128 conv4_block4_2_relu - False\n",
      "129 conv4_block4_3_conv - False\n",
      "130 conv4_block4_out - False\n",
      "131 conv4_block5_preact_bn - False\n",
      "132 conv4_block5_preact_relu - False\n",
      "133 conv4_block5_1_conv - False\n",
      "134 conv4_block5_1_bn - False\n",
      "135 conv4_block5_1_relu - False\n",
      "136 conv4_block5_2_pad - False\n",
      "137 conv4_block5_2_conv - False\n",
      "138 conv4_block5_2_bn - False\n",
      "139 conv4_block5_2_relu - False\n",
      "140 conv4_block5_3_conv - False\n",
      "141 conv4_block5_out - False\n",
      "142 conv4_block6_preact_bn - False\n",
      "143 conv4_block6_preact_relu - False\n",
      "144 conv4_block6_1_conv - False\n",
      "145 conv4_block6_1_bn - False\n",
      "146 conv4_block6_1_relu - False\n",
      "147 conv4_block6_2_pad - False\n",
      "148 conv4_block6_2_conv - False\n",
      "149 conv4_block6_2_bn - False\n",
      "150 conv4_block6_2_relu - False\n",
      "151 max_pooling2d_2 - False\n",
      "152 conv4_block6_3_conv - False\n",
      "153 conv4_block6_out - False\n",
      "154 conv5_block1_preact_bn - False\n",
      "155 conv5_block1_preact_relu - False\n",
      "156 conv5_block1_1_conv - False\n",
      "157 conv5_block1_1_bn - False\n",
      "158 conv5_block1_1_relu - False\n",
      "159 conv5_block1_2_pad - False\n",
      "160 conv5_block1_2_conv - False\n",
      "161 conv5_block1_2_bn - False\n",
      "162 conv5_block1_2_relu - False\n",
      "163 conv5_block1_0_conv - False\n",
      "164 conv5_block1_3_conv - False\n",
      "165 conv5_block1_out - False\n",
      "166 conv5_block2_preact_bn - False\n",
      "167 conv5_block2_preact_relu - False\n",
      "168 conv5_block2_1_conv - False\n",
      "169 conv5_block2_1_bn - False\n",
      "170 conv5_block2_1_relu - False\n",
      "171 conv5_block2_2_pad - False\n",
      "172 conv5_block2_2_conv - False\n",
      "173 conv5_block2_2_bn - False\n",
      "174 conv5_block2_2_relu - False\n",
      "175 conv5_block2_3_conv - False\n",
      "176 conv5_block2_out - False\n",
      "177 conv5_block3_preact_bn - False\n",
      "178 conv5_block3_preact_relu - False\n",
      "179 conv5_block3_1_conv - False\n",
      "180 conv5_block3_1_bn - False\n",
      "181 conv5_block3_1_relu - False\n",
      "182 conv5_block3_2_pad - False\n",
      "183 conv5_block3_2_conv - False\n",
      "184 conv5_block3_2_bn - False\n",
      "185 conv5_block3_2_relu - False\n",
      "186 conv5_block3_3_conv - False\n",
      "187 conv5_block3_out - False\n",
      "188 post_bn - False\n",
      "189 post_relu - False\n"
     ]
    }
   ],
   "source": [
    "for i, layer in enumerate(base_model.layers):\n",
    "    print(i, layer.name, \"-\", layer.trainable)"
   ]
  },
  {
   "cell_type": "code",
   "execution_count": 17,
   "metadata": {
    "id": "kQrXVfDdjcWC"
   },
   "outputs": [],
   "source": [
    "model = tf.keras.Sequential([\n",
    "    base_model,\n",
    "    # GlobalAveragePooling2D(),\n",
    "    Flatten(),\n",
    "    BatchNormalization(),\n",
    "    Dense(256, activation='relu'),\n",
    "    Dropout(0.5),\n",
    "    BatchNormalization(),\n",
    "    Dense(128, activation='relu'),\n",
    "    Dropout(0.5),\n",
    "    BatchNormalization(),\n",
    "    Dense(64, activation='relu'),\n",
    "    Dropout(0.5),\n",
    "    BatchNormalization(),\n",
    "    Dense(3, activation='softmax'),\n",
    "])"
   ]
  },
  {
   "cell_type": "code",
   "execution_count": 20,
   "metadata": {
    "colab": {
     "base_uri": "https://localhost:8080/"
    },
    "executionInfo": {
     "elapsed": 10,
     "status": "ok",
     "timestamp": 1624269250323,
     "user": {
      "displayName": "An Võ Khánh",
      "photoUrl": "https://lh3.googleusercontent.com/a-/AOh14GgNIta8szV9jGQWGyYFClGX1pXYlX0x-Gk_3xI=s64",
      "userId": "03935501821652710257"
     },
     "user_tz": -420
    },
    "id": "s9PZUS4Njx6G",
    "outputId": "83f68569-c846-4900-ae62-2d58cd737a95"
   },
   "outputs": [
    {
     "name": "stdout",
     "output_type": "stream",
     "text": [
      "Model: \"sequential\"\n",
      "_________________________________________________________________\n",
      "Layer (type)                 Output Shape              Param #   \n",
      "=================================================================\n",
      "resnet50v2 (Functional)      (None, 7, 7, 2048)        23564800  \n",
      "_________________________________________________________________\n",
      "flatten (Flatten)            (None, 100352)            0         \n",
      "_________________________________________________________________\n",
      "batch_normalization (BatchNo (None, 100352)            401408    \n",
      "_________________________________________________________________\n",
      "dense (Dense)                (None, 256)               25690368  \n",
      "_________________________________________________________________\n",
      "dropout (Dropout)            (None, 256)               0         \n",
      "_________________________________________________________________\n",
      "batch_normalization_1 (Batch (None, 256)               1024      \n",
      "_________________________________________________________________\n",
      "dense_1 (Dense)              (None, 128)               32896     \n",
      "_________________________________________________________________\n",
      "dropout_1 (Dropout)          (None, 128)               0         \n",
      "_________________________________________________________________\n",
      "batch_normalization_2 (Batch (None, 128)               512       \n",
      "_________________________________________________________________\n",
      "dense_2 (Dense)              (None, 64)                8256      \n",
      "_________________________________________________________________\n",
      "dropout_2 (Dropout)          (None, 64)                0         \n",
      "_________________________________________________________________\n",
      "batch_normalization_3 (Batch (None, 64)                256       \n",
      "_________________________________________________________________\n",
      "dense_3 (Dense)              (None, 3)                 195       \n",
      "=================================================================\n",
      "Total params: 49,699,715\n",
      "Trainable params: 25,933,315\n",
      "Non-trainable params: 23,766,400\n",
      "_________________________________________________________________\n"
     ]
    }
   ],
   "source": [
    "lr = 5e-3\n",
    "model.compile(loss='categorical_crossentropy', optimizer=Adam(learning_rate=lr), metrics=['accuracy'])\n",
    "model.summary()"
   ]
  },
  {
   "cell_type": "markdown",
   "metadata": {
    "id": "Fp_TIQ7BkZ5u"
   },
   "source": [
    "# Callbacks"
   ]
  },
  {
   "cell_type": "code",
   "execution_count": 21,
   "metadata": {
    "id": "KrRPTkQPkQY-"
   },
   "outputs": [],
   "source": [
    "patience = 10\n",
    "# stop_patience = 10\n",
    "factor = 0.1\n",
    "callbacks = [\n",
    "    ModelCheckpoint(\"resnet50v2-final.h5\", save_best_only=True, verbose = 0),\n",
    "    # EarlyStopping(patience=stop_patience, monitor='val_loss', verbose=1),\n",
    "    ReduceLROnPlateau(monitor='val_loss', factor=factor, patience=patience, min_lr=1e-6, verbose=1)\n",
    "]"
   ]
  },
  {
   "cell_type": "markdown",
   "metadata": {
    "id": "YORajlyck_69"
   },
   "source": [
    "# Model Training"
   ]
  },
  {
   "cell_type": "code",
   "execution_count": 22,
   "metadata": {
    "colab": {
     "base_uri": "https://localhost:8080/",
     "height": 198
    },
    "id": "1ByJHSU5k0VS",
    "outputId": "43ed49ca-8433-4d01-e774-8cb4456ece96",
    "scrolled": true
   },
   "outputs": [
    {
     "name": "stdout",
     "output_type": "stream",
     "text": [
      "Epoch 1/50\n",
      "393/393 [==============================] - 308s 780ms/step - loss: 0.6487 - accuracy: 0.7435 - val_loss: 0.3612 - val_accuracy: 0.8717\n"
     ]
    },
    {
     "name": "stderr",
     "output_type": "stream",
     "text": [
      "/Users/ngctnnnn/miniforge3/lib/python3.9/site-packages/tensorflow/python/keras/utils/generic_utils.py:494: CustomMaskWarning: Custom mask layers require a config and must override get_config. When loading, the custom mask layer must be passed to the custom_objects argument.\n",
      "  warnings.warn('Custom mask layers require a config and must override '\n"
     ]
    },
    {
     "name": "stdout",
     "output_type": "stream",
     "text": [
      "Epoch 2/50\n",
      "393/393 [==============================] - 305s 775ms/step - loss: 0.4469 - accuracy: 0.8313 - val_loss: 0.3654 - val_accuracy: 0.8523\n",
      "Epoch 3/50\n",
      "393/393 [==============================] - 301s 765ms/step - loss: 0.4074 - accuracy: 0.8524 - val_loss: 0.6374 - val_accuracy: 0.7885\n",
      "Epoch 4/50\n",
      "393/393 [==============================] - 300s 763ms/step - loss: 0.3849 - accuracy: 0.8602 - val_loss: 0.3819 - val_accuracy: 0.8487\n",
      "Epoch 5/50\n",
      "393/393 [==============================] - 301s 764ms/step - loss: 0.3576 - accuracy: 0.8708 - val_loss: 0.5943 - val_accuracy: 0.8122\n",
      "Epoch 6/50\n",
      "393/393 [==============================] - 307s 781ms/step - loss: 0.3427 - accuracy: 0.8739 - val_loss: 1.1585 - val_accuracy: 0.6961\n",
      "Epoch 7/50\n",
      "393/393 [==============================] - 303s 768ms/step - loss: 0.3471 - accuracy: 0.8705 - val_loss: 0.4505 - val_accuracy: 0.8552\n",
      "Epoch 8/50\n",
      "393/393 [==============================] - 303s 769ms/step - loss: 0.3380 - accuracy: 0.8767 - val_loss: 0.4302 - val_accuracy: 0.8652\n",
      "Epoch 9/50\n",
      "393/393 [==============================] - 303s 770ms/step - loss: 0.3410 - accuracy: 0.8761 - val_loss: 0.5506 - val_accuracy: 0.8251\n",
      "Epoch 10/50\n",
      "393/393 [==============================] - 302s 767ms/step - loss: 0.3383 - accuracy: 0.8798 - val_loss: 0.6574 - val_accuracy: 0.8437\n",
      "Epoch 11/50\n",
      "393/393 [==============================] - 304s 773ms/step - loss: 0.3361 - accuracy: 0.8783 - val_loss: 1.1695 - val_accuracy: 0.7978\n",
      "\n",
      "Epoch 00011: ReduceLROnPlateau reducing learning rate to 0.0004999999888241291.\n",
      "Epoch 12/50\n",
      "393/393 [==============================] - 302s 766ms/step - loss: 0.2940 - accuracy: 0.8945 - val_loss: 1.3079 - val_accuracy: 0.8444\n",
      "Epoch 13/50\n",
      "393/393 [==============================] - 297s 754ms/step - loss: 0.2783 - accuracy: 0.9043 - val_loss: 1.7884 - val_accuracy: 0.8573\n",
      "Epoch 14/50\n",
      "393/393 [==============================] - 298s 757ms/step - loss: 0.2717 - accuracy: 0.9029 - val_loss: 3.1584 - val_accuracy: 0.8631\n",
      "Epoch 15/50\n",
      "393/393 [==============================] - 297s 754ms/step - loss: 0.2600 - accuracy: 0.9098 - val_loss: 5.1392 - val_accuracy: 0.8516\n",
      "Epoch 16/50\n",
      "393/393 [==============================] - 297s 755ms/step - loss: 0.2624 - accuracy: 0.9070 - val_loss: 4.6225 - val_accuracy: 0.8652\n",
      "Epoch 17/50\n",
      "393/393 [==============================] - 298s 756ms/step - loss: 0.2369 - accuracy: 0.9160 - val_loss: 4.8016 - val_accuracy: 0.8573\n",
      "Epoch 18/50\n",
      "393/393 [==============================] - 297s 755ms/step - loss: 0.2470 - accuracy: 0.9144 - val_loss: 4.9733 - val_accuracy: 0.8530\n",
      "Epoch 19/50\n",
      "393/393 [==============================] - 298s 756ms/step - loss: 0.2358 - accuracy: 0.9184 - val_loss: 4.8234 - val_accuracy: 0.8588\n",
      "Epoch 20/50\n",
      "393/393 [==============================] - 297s 756ms/step - loss: 0.2311 - accuracy: 0.9193 - val_loss: 5.7820 - val_accuracy: 0.8573\n",
      "Epoch 21/50\n",
      "393/393 [==============================] - 299s 759ms/step - loss: 0.2263 - accuracy: 0.9190 - val_loss: 6.4980 - val_accuracy: 0.8459\n",
      "\n",
      "Epoch 00021: ReduceLROnPlateau reducing learning rate to 4.9999996554106475e-05.\n",
      "Epoch 22/50\n",
      "393/393 [==============================] - 298s 759ms/step - loss: 0.2218 - accuracy: 0.9219 - val_loss: 4.4179 - val_accuracy: 0.8523\n",
      "Epoch 23/50\n",
      "393/393 [==============================] - 298s 758ms/step - loss: 0.2233 - accuracy: 0.9212 - val_loss: 4.2063 - val_accuracy: 0.8523\n",
      "Epoch 24/50\n",
      "393/393 [==============================] - 298s 757ms/step - loss: 0.2167 - accuracy: 0.9245 - val_loss: 4.1806 - val_accuracy: 0.8573\n",
      "Epoch 25/50\n",
      "393/393 [==============================] - 298s 757ms/step - loss: 0.2231 - accuracy: 0.9221 - val_loss: 4.2003 - val_accuracy: 0.8609\n",
      "Epoch 26/50\n",
      "393/393 [==============================] - 298s 756ms/step - loss: 0.2227 - accuracy: 0.9240 - val_loss: 5.5932 - val_accuracy: 0.8581\n",
      "Epoch 27/50\n",
      "393/393 [==============================] - 299s 760ms/step - loss: 0.2213 - accuracy: 0.9232 - val_loss: 1.5663 - val_accuracy: 0.8516\n",
      "Epoch 28/50\n",
      "393/393 [==============================] - 299s 760ms/step - loss: 0.2096 - accuracy: 0.9273 - val_loss: 1.1069 - val_accuracy: 0.8566\n",
      "Epoch 29/50\n",
      "393/393 [==============================] - 307s 781ms/step - loss: 0.2241 - accuracy: 0.9201 - val_loss: 3.2203 - val_accuracy: 0.8573\n",
      "Epoch 30/50\n",
      "393/393 [==============================] - 314s 799ms/step - loss: 0.2239 - accuracy: 0.9201 - val_loss: 2.6253 - val_accuracy: 0.8616\n",
      "Epoch 31/50\n",
      "393/393 [==============================] - 314s 798ms/step - loss: 0.2176 - accuracy: 0.9235 - val_loss: 3.3542 - val_accuracy: 0.8573\n",
      "\n",
      "Epoch 00031: ReduceLROnPlateau reducing learning rate to 4.999999509891496e-06.\n",
      "Epoch 32/50\n",
      "393/393 [==============================] - 301s 765ms/step - loss: 0.2176 - accuracy: 0.9243 - val_loss: 4.0708 - val_accuracy: 0.8573\n",
      "Epoch 33/50\n",
      "393/393 [==============================] - 299s 760ms/step - loss: 0.2072 - accuracy: 0.9257 - val_loss: 4.2337 - val_accuracy: 0.8573\n",
      "Epoch 34/50\n",
      "393/393 [==============================] - 297s 754ms/step - loss: 0.2219 - accuracy: 0.9225 - val_loss: 5.4792 - val_accuracy: 0.8566\n",
      "Epoch 35/50\n",
      "393/393 [==============================] - 295s 750ms/step - loss: 0.2164 - accuracy: 0.9239 - val_loss: 4.8195 - val_accuracy: 0.8602\n",
      "Epoch 36/50\n",
      "393/393 [==============================] - 317s 806ms/step - loss: 0.2101 - accuracy: 0.9246 - val_loss: 3.8897 - val_accuracy: 0.8595\n",
      "Epoch 37/50\n",
      "393/393 [==============================] - 295s 749ms/step - loss: 0.2049 - accuracy: 0.9274 - val_loss: 4.0073 - val_accuracy: 0.8652\n",
      "Epoch 38/50\n",
      "393/393 [==============================] - 305s 775ms/step - loss: 0.2178 - accuracy: 0.9244 - val_loss: 4.3476 - val_accuracy: 0.8559\n",
      "Epoch 39/50\n",
      "393/393 [==============================] - 302s 768ms/step - loss: 0.2090 - accuracy: 0.9282 - val_loss: 5.2787 - val_accuracy: 0.8538\n",
      "Epoch 40/50\n",
      "393/393 [==============================] - 299s 759ms/step - loss: 0.2152 - accuracy: 0.9243 - val_loss: 5.0320 - val_accuracy: 0.8573\n",
      "Epoch 41/50\n",
      "393/393 [==============================] - 300s 762ms/step - loss: 0.2185 - accuracy: 0.9196 - val_loss: 5.5412 - val_accuracy: 0.8566\n",
      "\n",
      "Epoch 00041: ReduceLROnPlateau reducing learning rate to 1e-06.\n",
      "Epoch 42/50\n",
      "393/393 [==============================] - 298s 756ms/step - loss: 0.2181 - accuracy: 0.9255 - val_loss: 3.6614 - val_accuracy: 0.8573\n",
      "Epoch 43/50\n",
      "393/393 [==============================] - 296s 752ms/step - loss: 0.2128 - accuracy: 0.9262 - val_loss: 3.8046 - val_accuracy: 0.8566\n",
      "Epoch 44/50\n",
      "393/393 [==============================] - 297s 755ms/step - loss: 0.2176 - accuracy: 0.9236 - val_loss: 4.0843 - val_accuracy: 0.8566\n",
      "Epoch 45/50\n",
      "393/393 [==============================] - 298s 758ms/step - loss: 0.2096 - accuracy: 0.9284 - val_loss: 3.6718 - val_accuracy: 0.8581\n",
      "Epoch 46/50\n",
      "393/393 [==============================] - 296s 752ms/step - loss: 0.2130 - accuracy: 0.9259 - val_loss: 3.9051 - val_accuracy: 0.8624\n",
      "Epoch 47/50\n",
      "393/393 [==============================] - 295s 750ms/step - loss: 0.2160 - accuracy: 0.9257 - val_loss: 4.3147 - val_accuracy: 0.8581\n",
      "Epoch 48/50\n",
      "393/393 [==============================] - 298s 757ms/step - loss: 0.2083 - accuracy: 0.9279 - val_loss: 4.5132 - val_accuracy: 0.8573\n",
      "Epoch 49/50\n",
      "393/393 [==============================] - 300s 761ms/step - loss: 0.2108 - accuracy: 0.9296 - val_loss: 6.0200 - val_accuracy: 0.8573\n",
      "Epoch 50/50\n",
      "393/393 [==============================] - 300s 762ms/step - loss: 0.2143 - accuracy: 0.9241 - val_loss: 4.8454 - val_accuracy: 0.8573\n"
     ]
    }
   ],
   "source": [
    "#Chỉ chạy lần đầu tiên thôi nha, train tiếp thì kh chạy dòng này mà chạy dòng ở dưới\n",
    "epochs = 50\n",
    "history = model.fit(train_generator, validation_data=valid_generator, epochs=epochs, callbacks=callbacks, verbose=1)"
   ]
  },
  {
   "cell_type": "code",
   "execution_count": 23,
   "metadata": {
    "colab": {
     "base_uri": "https://localhost:8080/",
     "height": 573
    },
    "id": "AXxQxg-yr1LU",
    "outputId": "a9219d2a-314b-433e-ad7b-f01e95587030"
   },
   "outputs": [
    {
     "data": {
      "image/png": "[encoded data removed]",
      "text/plain": [
       "<Figure size 432x288 with 1 Axes>"
      ]
     },
     "metadata": {},
     "output_type": "display_data"
    },
    {
     "data": {
      "image/png": "[encoded data removed]",
      "text/plain": [
       "<Figure size 432x288 with 1 Axes>"
      ]
     },
     "metadata": {},
     "output_type": "display_data"
    }
   ],
   "source": [
    "plt.plot(history.history['loss'], label='Loss (training data)')\n",
    "plt.plot(history.history['val_loss'], label='Loss (validation data)')\n",
    "plt.title('Loss for Training')\n",
    "plt.ylabel('Loss')\n",
    "plt.xlabel('No. epoch')\n",
    "plt.legend(['train', 'validation'], loc=\"upper left\")\n",
    "plt.show()\n",
    "\n",
    "plt.plot(history.history['accuracy'])\n",
    "plt.plot(history.history['val_accuracy'])\n",
    "plt.title('model accuracy')\n",
    "plt.ylabel('accuracy')\n",
    "plt.xlabel('epoch')\n",
    "plt.legend(['train', 'validation'], loc='upper left')\n",
    "plt.savefig(\"plot/resnet50_plot.png\")\n",
    "plt.show()"
   ]
  },
  {
   "cell_type": "code",
   "execution_count": null,
   "metadata": {
    "id": "j0qRz6_0XYEE"
   },
   "outputs": [],
   "source": [
    "epochs =  30\n",
    "model = load_model('resnet50v2-final.h5')\n",
    "history = model.fit(train_generator, validation_data=valid_generator, epochs=epochs, callbacks=callbacks, verbose=1)"
   ]
  },
  {
   "cell_type": "markdown",
   "metadata": {
    "id": "FEOjWy9ssfir"
   },
   "source": [
    "# Predictions on Test Set"
   ]
  },
  {
   "cell_type": "code",
   "execution_count": 24,
   "metadata": {
    "colab": {
     "base_uri": "https://localhost:8080/"
    },
    "id": "Oz9ADtRYsBpF",
    "outputId": "3539c682-ed3e-48b9-8119-41f43956aa5d"
   },
   "outputs": [
    {
     "name": "stdout",
     "output_type": "stream",
     "text": [
      "15/15 [==============================] - 28s 2s/step - loss: 0.4378 - accuracy: 0.8351\n"
     ]
    },
    {
     "data": {
      "text/plain": [
       "[0.4377546012401581, 0.8350731134414673]"
      ]
     },
     "execution_count": 24,
     "metadata": {},
     "output_type": "execute_result"
    }
   ],
   "source": [
    "best_model = model\n",
    "best_model.load_weights('resnet50v2-final.h5')\n",
    "best_model.evaluate(test_generator)"
   ]
  },
  {
   "cell_type": "code",
   "execution_count": null,
   "metadata": {
    "id": "7Q6cLShIr0SV"
   },
   "outputs": [],
   "source": [
    "# history_val_loss = [0.4710, 0.3789, 0.4030, 0.4503, 0.4293]\n",
    "# history_val_acc = [0.8222, 0.8566, 0.8502, 0.8394, 0.8487]\n",
    "# history_train_loss = [0.4943, 0.4051, 0.3780, 0.3570, 0.3204]\n",
    "# history_train_acc = [0.8077, 0.8422, 0.8529, 0.8643, 0.8782]"
   ]
  },
  {
   "cell_type": "code",
   "execution_count": null,
   "metadata": {
    "id": "TIt9kWcWswBE"
   },
   "outputs": [],
   "source": [
    "def print_info( test_gen, preds, print_code, save_dir, subject ):\n",
    "    class_dict=test_gen.class_indices\n",
    "    labels= test_gen.labels\n",
    "    file_names= test_gen.filenames \n",
    "    error_list=[]\n",
    "    true_class=[]\n",
    "    pred_class=[]\n",
    "    prob_list=[]\n",
    "    new_dict={}\n",
    "    error_indices=[]\n",
    "    y_pred=[]\n",
    "\n",
    "    for key,value in class_dict.items():\n",
    "        new_dict[value]=key             # dictionary {integer of class number: string of class name}\n",
    "    # store new_dict as a text fine in the save_dir\n",
    "    classes=list(new_dict.values())     # list of string of class names\n",
    "    dict_as_text=str(new_dict)\n",
    "    dict_name= subject + '-' +str(len(classes)) +'.txt'  \n",
    "    dict_path=os.path.join(save_dir, dict_name)    \n",
    "    with open(dict_path, 'w') as x_file:\n",
    "        x_file.write(dict_as_text)    \n",
    "    errors=0      \n",
    "\n",
    "    for i, p in enumerate(preds):\n",
    "        pred_index=np.argmax(p)        \n",
    "        true_index=labels[i]  # labels are integer values\n",
    "        if pred_index != true_index: # a misclassification has occurred\n",
    "            error_list.append(file_names[i])\n",
    "            true_class.append(new_dict[true_index])\n",
    "            pred_class.append(new_dict[pred_index])\n",
    "            prob_list.append(p[pred_index])\n",
    "            error_indices.append(true_index)            \n",
    "            errors=errors + 1\n",
    "        y_pred.append(pred_index)    \n",
    "\n",
    "    if print_code !=0:\n",
    "        if errors>0:\n",
    "            if print_code>errors:\n",
    "                r=errors\n",
    "            else:\n",
    "                r=print_code           \n",
    "            msg='{0:^28s}{1:^28s}{2:^28s}{3:^16s}'.format('Filename', 'Predicted Class' , 'True Class', 'Probability')\n",
    "            print_in_color(msg, (0,255,0),(55,65,80))\n",
    "            for i in range(r):\n",
    "                msg='{0:^28s}{1:^28s}{2:^28s}{3:4s}{4:^6.4f}'.format(error_list[i], pred_class[i],true_class[i], ' ', prob_list[i])\n",
    "                print_in_color(msg, (255,255,255), (55,65,60))\n",
    "                #print(error_list[i]  , pred_class[i], true_class[i], prob_list[i])               \n",
    "        else:\n",
    "            msg='With accuracy of 100 % there are no errors to print'\n",
    "            print_in_color(msg, (0,255,0),(55,65,80))\n",
    "            \n",
    "    if errors>0:\n",
    "        plot_bar=[]\n",
    "        plot_class=[]\n",
    "        for  key, value in new_dict.items():        \n",
    "            count=error_indices.count(key) \n",
    "            if count!=0:\n",
    "                plot_bar.append(count) # list containg how many times a class c had an error\n",
    "                plot_class.append(value)   # stores the class \n",
    "        fig=plt.figure()\n",
    "        fig.set_figheight(len(plot_class)/3)\n",
    "        fig.set_figwidth(10)\n",
    "        plt.style.use('fivethirtyeight')\n",
    "        for i in range(0, len(plot_class)):\n",
    "            c=plot_class[i]\n",
    "            x=plot_bar[i]\n",
    "            plt.barh(c, x, )\n",
    "            plt.title( ' Errors by Class on Test Set')\n",
    "    \n",
    "    if len(classes)<= 30:\n",
    "        # create a confusion matrix and a test report        \n",
    "        y_true= np.array(labels)        \n",
    "        y_pred=np.array(y_pred)        \n",
    "        cm = confusion_matrix(y_true, y_pred )\n",
    "        clr = classification_report(y_true, y_pred, target_names=classes)\n",
    "        length=len(classes)\n",
    "        if length<8:\n",
    "            fig_width=8\n",
    "            fig_height=8\n",
    "        else:\n",
    "            fig_width= int(length * .5)\n",
    "            fig_height= int(length * .5)\n",
    "        plt.figure(figsize=(fig_width, fig_height))\n",
    "        sns.heatmap(cm, annot=True, vmin=0, fmt='g', cmap='Blues', cbar=False)       \n",
    "        plt.xticks(np.arange(length)+.5, classes, rotation= 90)\n",
    "        plt.yticks(np.arange(length)+.5, classes, rotation=0)\n",
    "        plt.xlabel(\"Predicted\")\n",
    "        plt.ylabel(\"Actual\")\n",
    "        plt.title(\"Confusion Matrix\")\n",
    "        plt.show()    \n",
    "        print(\"Classification Report:\\n----------------------\\n\", clr)"
   ]
  },
  {
   "cell_type": "code",
   "execution_count": null,
   "metadata": {
    "colab": {
     "base_uri": "https://localhost:8080/",
     "height": 943
    },
    "id": "0WHmjApCurHV",
    "outputId": "22fc7b7f-878e-47f2-f4d2-27d4b1957efe"
   },
   "outputs": [
    {
     "ename": "FileNotFoundError",
     "evalue": "[Errno 2] No such file or directory: '/saved/covid-3.txt'",
     "output_type": "error",
     "traceback": [
      "\u001b[0;31m---------------------------------------------------------------------------\u001b[0m",
      "\u001b[0;31mFileNotFoundError\u001b[0m                         Traceback (most recent call last)",
      "\u001b[0;32m<ipython-input-24-f6442c61a1fe>\u001b[0m in \u001b[0;36m<module>\u001b[0;34m\u001b[0m\n\u001b[1;32m      3\u001b[0m \u001b[0msave_dir\u001b[0m \u001b[0;34m=\u001b[0m \u001b[0;34m'/saved'\u001b[0m\u001b[0;34m\u001b[0m\u001b[0;34m\u001b[0m\u001b[0m\n\u001b[1;32m      4\u001b[0m \u001b[0mpreds\u001b[0m \u001b[0;34m=\u001b[0m \u001b[0mbest_model\u001b[0m\u001b[0;34m.\u001b[0m\u001b[0mpredict\u001b[0m\u001b[0;34m(\u001b[0m\u001b[0mtest_generator\u001b[0m\u001b[0;34m)\u001b[0m\u001b[0;34m\u001b[0m\u001b[0;34m\u001b[0m\u001b[0m\n\u001b[0;32m----> 5\u001b[0;31m \u001b[0mprint_info\u001b[0m\u001b[0;34m(\u001b[0m\u001b[0mtest_generator\u001b[0m\u001b[0;34m,\u001b[0m \u001b[0mpreds\u001b[0m\u001b[0;34m,\u001b[0m \u001b[0mprint_code\u001b[0m\u001b[0;34m,\u001b[0m \u001b[0msave_dir\u001b[0m\u001b[0;34m,\u001b[0m \u001b[0msubject\u001b[0m\u001b[0;34m)\u001b[0m\u001b[0;34m\u001b[0m\u001b[0;34m\u001b[0m\u001b[0m\n\u001b[0m",
      "\u001b[0;32m<ipython-input-23-69709d3ac389>\u001b[0m in \u001b[0;36mprint_info\u001b[0;34m(test_gen, preds, print_code, save_dir, subject)\u001b[0m\n\u001b[1;32m     18\u001b[0m     \u001b[0mdict_name\u001b[0m\u001b[0;34m=\u001b[0m \u001b[0msubject\u001b[0m \u001b[0;34m+\u001b[0m \u001b[0;34m'-'\u001b[0m \u001b[0;34m+\u001b[0m\u001b[0mstr\u001b[0m\u001b[0;34m(\u001b[0m\u001b[0mlen\u001b[0m\u001b[0;34m(\u001b[0m\u001b[0mclasses\u001b[0m\u001b[0;34m)\u001b[0m\u001b[0;34m)\u001b[0m \u001b[0;34m+\u001b[0m\u001b[0;34m'.txt'\u001b[0m\u001b[0;34m\u001b[0m\u001b[0;34m\u001b[0m\u001b[0m\n\u001b[1;32m     19\u001b[0m     \u001b[0mdict_path\u001b[0m\u001b[0;34m=\u001b[0m\u001b[0mos\u001b[0m\u001b[0;34m.\u001b[0m\u001b[0mpath\u001b[0m\u001b[0;34m.\u001b[0m\u001b[0mjoin\u001b[0m\u001b[0;34m(\u001b[0m\u001b[0msave_dir\u001b[0m\u001b[0;34m,\u001b[0m \u001b[0mdict_name\u001b[0m\u001b[0;34m)\u001b[0m\u001b[0;34m\u001b[0m\u001b[0;34m\u001b[0m\u001b[0m\n\u001b[0;32m---> 20\u001b[0;31m     \u001b[0;32mwith\u001b[0m \u001b[0mopen\u001b[0m\u001b[0;34m(\u001b[0m\u001b[0mdict_path\u001b[0m\u001b[0;34m,\u001b[0m \u001b[0;34m'w'\u001b[0m\u001b[0;34m)\u001b[0m \u001b[0;32mas\u001b[0m \u001b[0mx_file\u001b[0m\u001b[0;34m:\u001b[0m\u001b[0;34m\u001b[0m\u001b[0;34m\u001b[0m\u001b[0m\n\u001b[0m\u001b[1;32m     21\u001b[0m         \u001b[0mx_file\u001b[0m\u001b[0;34m.\u001b[0m\u001b[0mwrite\u001b[0m\u001b[0;34m(\u001b[0m\u001b[0mdict_as_text\u001b[0m\u001b[0;34m)\u001b[0m\u001b[0;34m\u001b[0m\u001b[0;34m\u001b[0m\u001b[0m\n\u001b[1;32m     22\u001b[0m     \u001b[0merrors\u001b[0m\u001b[0;34m=\u001b[0m\u001b[0;36m0\u001b[0m\u001b[0;34m\u001b[0m\u001b[0;34m\u001b[0m\u001b[0m\n",
      "\u001b[0;31mFileNotFoundError\u001b[0m: [Errno 2] No such file or directory: '/saved/covid-3.txt'"
     ]
    }
   ],
   "source": [
    "print_code = 0\n",
    "subject = 'covid'\n",
    "save_dir = '/saved'\n",
    "preds = best_model.predict(test_generator)\n",
    "print_info(test_generator, preds, print_code, save_dir, subject)"
   ]
  }
 ],
 "metadata": {
  "accelerator": "GPU",
  "colab": {
   "collapsed_sections": [],
   "name": "resnet50_final.ipynb",
   "provenance": []
  },
  "kernelspec": {
   "display_name": "Python 3",
   "language": "python",
   "name": "python3"
  },
  "language_info": {
   "codemirror_mode": {
    "name": "ipython",
    "version": 3
   },
   "file_extension": ".py",
   "mimetype": "text/x-python",
   "name": "python",
   "nbconvert_exporter": "python",
   "pygments_lexer": "ipython3",
   "version": "3.9.5"
  }
 },
 "nbformat": 4,
 "nbformat_minor": 1
}
