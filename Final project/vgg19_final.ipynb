{
 "cells": [
  {
   "cell_type": "code",
   "execution_count": 2,
   "metadata": {
    "id": "HvrN1LLmJKro"
   },
   "outputs": [],
   "source": [
    "import tensorflow as tf\n",
    "import pandas as pd\n",
    "import numpy as np\n",
    "import matplotlib.pyplot as plt\n",
    "import pandas as pd\n",
    "from sklearn.model_selection import train_test_split\n",
    "from tensorflow.keras.layers import Conv2D,Flatten,MaxPool2D,BatchNormalization,GlobalAveragePooling2D, Dense, Dropout\n",
    "from tensorflow.keras.callbacks import EarlyStopping, ModelCheckpoint, ReduceLROnPlateau\n",
    "from tensorflow.keras.optimizers import Adam\n",
    "from tensorflow.keras.preprocessing.image import ImageDataGenerator\n",
    "import os\n",
    "from tensorflow.keras.applications import VGG19\n",
    "from sklearn.metrics import confusion_matrix, classification_report\n",
    "import seaborn as sns\n",
    "sns.set_style('darkgrid')\n",
    "from keras.models import load_model"
   ]
  },
  {
   "cell_type": "code",
   "execution_count": null,
   "metadata": {
    "colab": {
     "base_uri": "https://localhost:8080/"
    },
    "id": "p6eLYawPi5WZ",
    "outputId": "ad0a6feb-1672-4b91-91f1-3e474b3b4e23"
   },
   "outputs": [
    {
     "name": "stdout",
     "output_type": "stream",
     "text": [
      "Drive already mounted at /content/drive; to attempt to forcibly remount, call drive.mount(\"/content/drive\", force_remount=True).\n"
     ]
    }
   ],
   "source": [
    "# from google.colab import drive\n",
    "# drive.mount('/content/drive')"
   ]
  },
  {
   "cell_type": "code",
   "execution_count": 3,
   "metadata": {
    "id": "kgRqSdPvZ5Bx"
   },
   "outputs": [],
   "source": [
    "train_df = pd.read_csv('train_split.txt', sep=\" \", header=None)\n",
    "train_df.columns = ['patient id', 'file_paths', 'labels', 'data source']\n",
    "train_df = train_df.drop(['patient id', 'data source'], axis=1)"
   ]
  },
  {
   "cell_type": "code",
   "execution_count": 4,
   "metadata": {
    "colab": {
     "base_uri": "https://localhost:8080/",
     "height": 204
    },
    "id": "1l9E6nk0Z5Hp",
    "outputId": "f69334ff-fe70-4e4b-8b4b-cb8b51ce405a"
   },
   "outputs": [
    {
     "data": {
      "text/html": [
       "<div>\n",
       "<style scoped>\n",
       "    .dataframe tbody tr th:only-of-type {\n",
       "        vertical-align: middle;\n",
       "    }\n",
       "\n",
       "    .dataframe tbody tr th {\n",
       "        vertical-align: top;\n",
       "    }\n",
       "\n",
       "    .dataframe thead th {\n",
       "        text-align: right;\n",
       "    }\n",
       "</style>\n",
       "<table border=\"1\" class=\"dataframe\">\n",
       "  <thead>\n",
       "    <tr style=\"text-align: right;\">\n",
       "      <th></th>\n",
       "      <th>file_paths</th>\n",
       "      <th>labels</th>\n",
       "    </tr>\n",
       "  </thead>\n",
       "  <tbody>\n",
       "    <tr>\n",
       "      <th>0</th>\n",
       "      <td>SARS-10.1148rg.242035193-g04mr34g0-Fig8b-day5....</td>\n",
       "      <td>pneumonia</td>\n",
       "    </tr>\n",
       "    <tr>\n",
       "      <th>1</th>\n",
       "      <td>SARS-10.1148rg.242035193-g04mr34g0-Fig8c-day10...</td>\n",
       "      <td>pneumonia</td>\n",
       "    </tr>\n",
       "    <tr>\n",
       "      <th>2</th>\n",
       "      <td>SARS-10.1148rg.242035193-g04mr34g04a-Fig4a-day...</td>\n",
       "      <td>pneumonia</td>\n",
       "    </tr>\n",
       "    <tr>\n",
       "      <th>3</th>\n",
       "      <td>SARS-10.1148rg.242035193-g04mr34g04b-Fig4b-day...</td>\n",
       "      <td>pneumonia</td>\n",
       "    </tr>\n",
       "    <tr>\n",
       "      <th>4</th>\n",
       "      <td>SARS-10.1148rg.242035193-g04mr34g07a-Fig7a-day...</td>\n",
       "      <td>pneumonia</td>\n",
       "    </tr>\n",
       "  </tbody>\n",
       "</table>\n",
       "</div>"
      ],
      "text/plain": [
       "                                          file_paths     labels\n",
       "0  SARS-10.1148rg.242035193-g04mr34g0-Fig8b-day5....  pneumonia\n",
       "1  SARS-10.1148rg.242035193-g04mr34g0-Fig8c-day10...  pneumonia\n",
       "2  SARS-10.1148rg.242035193-g04mr34g04a-Fig4a-day...  pneumonia\n",
       "3  SARS-10.1148rg.242035193-g04mr34g04b-Fig4b-day...  pneumonia\n",
       "4  SARS-10.1148rg.242035193-g04mr34g07a-Fig7a-day...  pneumonia"
      ]
     },
     "execution_count": 4,
     "metadata": {},
     "output_type": "execute_result"
    }
   ],
   "source": [
    "train_df.head()"
   ]
  },
  {
   "cell_type": "code",
   "execution_count": 5,
   "metadata": {
    "id": "30f_QRBCZ5KW"
   },
   "outputs": [],
   "source": [
    "test_df = pd.read_csv('test_split.txt', sep=\" \", header=None)\n",
    "test_df.columns = ['patient id', 'file_paths', 'labels', 'data source']\n",
    "test_df = test_df.drop(['patient id', 'data source'], axis=1)"
   ]
  },
  {
   "cell_type": "code",
   "execution_count": 6,
   "metadata": {
    "colab": {
     "base_uri": "https://localhost:8080/",
     "height": 204
    },
    "id": "eIpjxB3VZ5Oj",
    "outputId": "d79a8942-4e77-48f3-f38e-462b70b42353"
   },
   "outputs": [
    {
     "data": {
      "text/html": [
       "<div>\n",
       "<style scoped>\n",
       "    .dataframe tbody tr th:only-of-type {\n",
       "        vertical-align: middle;\n",
       "    }\n",
       "\n",
       "    .dataframe tbody tr th {\n",
       "        vertical-align: top;\n",
       "    }\n",
       "\n",
       "    .dataframe thead th {\n",
       "        text-align: right;\n",
       "    }\n",
       "</style>\n",
       "<table border=\"1\" class=\"dataframe\">\n",
       "  <thead>\n",
       "    <tr style=\"text-align: right;\">\n",
       "      <th></th>\n",
       "      <th>file_paths</th>\n",
       "      <th>labels</th>\n",
       "    </tr>\n",
       "  </thead>\n",
       "  <tbody>\n",
       "    <tr>\n",
       "      <th>0</th>\n",
       "      <td>SARS-10.1148rg.242035193-g04mr34g05x-Fig5-day9...</td>\n",
       "      <td>pneumonia</td>\n",
       "    </tr>\n",
       "    <tr>\n",
       "      <th>1</th>\n",
       "      <td>streptococcus-pneumoniae-pneumonia-temporal-ev...</td>\n",
       "      <td>pneumonia</td>\n",
       "    </tr>\n",
       "    <tr>\n",
       "      <th>2</th>\n",
       "      <td>streptococcus-pneumoniae-pneumonia-temporal-ev...</td>\n",
       "      <td>pneumonia</td>\n",
       "    </tr>\n",
       "    <tr>\n",
       "      <th>3</th>\n",
       "      <td>streptococcus-pneumoniae-pneumonia-temporal-ev...</td>\n",
       "      <td>pneumonia</td>\n",
       "    </tr>\n",
       "    <tr>\n",
       "      <th>4</th>\n",
       "      <td>streptococcus-pneumoniae-pneumonia-temporal-ev...</td>\n",
       "      <td>pneumonia</td>\n",
       "    </tr>\n",
       "  </tbody>\n",
       "</table>\n",
       "</div>"
      ],
      "text/plain": [
       "                                          file_paths     labels\n",
       "0  SARS-10.1148rg.242035193-g04mr34g05x-Fig5-day9...  pneumonia\n",
       "1  streptococcus-pneumoniae-pneumonia-temporal-ev...  pneumonia\n",
       "2  streptococcus-pneumoniae-pneumonia-temporal-ev...  pneumonia\n",
       "3  streptococcus-pneumoniae-pneumonia-temporal-ev...  pneumonia\n",
       "4  streptococcus-pneumoniae-pneumonia-temporal-ev...  pneumonia"
      ]
     },
     "execution_count": 6,
     "metadata": {},
     "output_type": "execute_result"
    }
   ],
   "source": [
    "test_df.head()"
   ]
  },
  {
   "cell_type": "code",
   "execution_count": 7,
   "metadata": {
    "id": "49ge4OoX5bX1"
   },
   "outputs": [],
   "source": [
    "TRAIN_PATH = \"data/train\"\n",
    "TEST_PATH = \"data/test\""
   ]
  },
  {
   "cell_type": "markdown",
   "metadata": {
    "id": "IZL8T9vjeAD4"
   },
   "source": [
    "# Balancing Classes"
   ]
  },
  {
   "cell_type": "code",
   "execution_count": 8,
   "metadata": {
    "colab": {
     "base_uri": "https://localhost:8080/"
    },
    "id": "3hBZWDsmdP3j",
    "outputId": "3ddce06f-f7cf-4c2f-e0ca-a5f6e947e084"
   },
   "outputs": [
    {
     "data": {
      "text/plain": [
       "normal       8751\n",
       "pneumonia    5963\n",
       "COVID-19     4649\n",
       "Name: labels, dtype: int64"
      ]
     },
     "execution_count": 8,
     "metadata": {},
     "output_type": "execute_result"
    }
   ],
   "source": [
    "train_df['labels'].value_counts()"
   ]
  },
  {
   "cell_type": "code",
   "execution_count": 9,
   "metadata": {
    "colab": {
     "base_uri": "https://localhost:8080/"
    },
    "id": "og5N64BVekxV",
    "outputId": "725602dc-370a-4297-b643-8a576a7c643e"
   },
   "outputs": [
    {
     "name": "stdout",
     "output_type": "stream",
     "text": [
      "normal       4649\n",
      "pneumonia    4649\n",
      "COVID-19     4649\n",
      "Name: labels, dtype: int64\n",
      "13947\n"
     ]
    }
   ],
   "source": [
    "file_count = 4649\n",
    "samples = []\n",
    "for category in train_df['labels'].unique():\n",
    "    category_slice = train_df.query(\"labels == @category\")\n",
    "    samples.append(category_slice.sample(file_count, replace=False, random_state=1))\n",
    "train_df = pd.concat(samples, axis=0).sample(frac=1.0, random_state=1).reset_index(drop=True)\n",
    "print(train_df['labels'].value_counts())\n",
    "print(len(train_df))"
   ]
  },
  {
   "cell_type": "markdown",
   "metadata": {
    "id": "HEVgLFzSf3Il"
   },
   "source": [
    "# Spliting train_df into train_df and valid_df"
   ]
  },
  {
   "cell_type": "code",
   "execution_count": 10,
   "metadata": {
    "id": "RhLfoK_-f2IA"
   },
   "outputs": [],
   "source": [
    "train_df, valid_df = train_test_split(train_df, train_size=0.9, random_state=0)"
   ]
  },
  {
   "cell_type": "code",
   "execution_count": 11,
   "metadata": {
    "colab": {
     "base_uri": "https://localhost:8080/"
    },
    "id": "lV3nA8FQgKu0",
    "outputId": "da689050-24cf-426b-8fdc-2f6d49e07f60"
   },
   "outputs": [
    {
     "name": "stdout",
     "output_type": "stream",
     "text": [
      "COVID-19     4213\n",
      "normal       4189\n",
      "pneumonia    4150\n",
      "Name: labels, dtype: int64\n",
      "pneumonia    499\n",
      "normal       460\n",
      "COVID-19     436\n",
      "Name: labels, dtype: int64\n",
      "COVID-19     274\n",
      "pneumonia    105\n",
      "normal       100\n",
      "Name: labels, dtype: int64\n"
     ]
    }
   ],
   "source": [
    "print(train_df.labels.value_counts())\n",
    "print(valid_df.labels.value_counts())\n",
    "print(test_df.labels.value_counts())"
   ]
  },
  {
   "cell_type": "markdown",
   "metadata": {
    "id": "1iivWWhAgjM2"
   },
   "source": [
    "# Image Data Generators"
   ]
  },
  {
   "cell_type": "code",
   "execution_count": 12,
   "metadata": {
    "id": "WrjpfEOwrA36"
   },
   "outputs": [],
   "source": [
    "batch_size = 32\n",
    "img_height = 480\n",
    "img_width = 480\n",
    "target_size = (img_height, img_width)"
   ]
  },
  {
   "cell_type": "code",
   "execution_count": 13,
   "metadata": {
    "id": "AEpQjT0x4S-x"
   },
   "outputs": [],
   "source": [
    "train_datagen = ImageDataGenerator(preprocessing_function=tf.keras.applications.resnet_v2.preprocess_input, \n",
    "                                   horizontal_flip=True, zoom_range=0.1)\n",
    "test_datagen = ImageDataGenerator(preprocessing_function=tf.keras.applications.resnet_v2.preprocess_input)"
   ]
  },
  {
   "cell_type": "code",
   "execution_count": 14,
   "metadata": {
    "colab": {
     "base_uri": "https://localhost:8080/"
    },
    "id": "bSehoEydoLbv",
    "outputId": "fc60ce17-a05c-4016-d030-2235113d2db5"
   },
   "outputs": [
    {
     "name": "stdout",
     "output_type": "stream",
     "text": [
      "Found 12552 validated image filenames belonging to 3 classes.\n",
      "Found 1395 validated image filenames belonging to 3 classes.\n",
      "Found 479 validated image filenames belonging to 3 classes.\n"
     ]
    }
   ],
   "source": [
    "train_generator = train_datagen.flow_from_dataframe(train_df, directory=TRAIN_PATH, x_col='file_paths', y_col='labels',\n",
    "                                                    target_size=target_size, batch_size=batch_size, color_mode='rgb', class_mode='categorical')\n",
    "\n",
    "valid_generator = test_datagen.flow_from_dataframe(valid_df, directory=TRAIN_PATH, x_col='file_paths', y_col='labels',\n",
    "                                                    target_size=target_size, batch_size=batch_size, color_mode='rgb', class_mode='categorical')\n",
    "\n",
    "test_generator = test_datagen.flow_from_dataframe(test_df, directory=TEST_PATH, x_col='file_paths', y_col='labels',\n",
    "                                                    target_size=target_size, batch_size=batch_size, color_mode='rgb', class_mode='categorical')"
   ]
  },
  {
   "cell_type": "markdown",
   "metadata": {
    "id": "uUmEb9kzieWG"
   },
   "source": [
    "# Create Model"
   ]
  },
  {
   "cell_type": "code",
   "execution_count": 15,
   "metadata": {
    "id": "9p8cpBnQiduA"
   },
   "outputs": [
    {
     "name": "stdout",
     "output_type": "stream",
     "text": [
      "Downloading data from https://storage.googleapis.com/tensorflow/keras-applications/vgg19/vgg19_weights_tf_dim_ordering_tf_kernels_notop.h5\n",
      "80142336/80134624 [==============================] - 17s 0us/step\n"
     ]
    }
   ],
   "source": [
    "base_model = VGG19(include_top=False, weights=\"imagenet\", input_shape=(img_height, img_width, 3))\n",
    "\n",
    "for layer in base_model.layers[:22]:\n",
    "    layer.trainable = False"
   ]
  },
  {
   "cell_type": "code",
   "execution_count": 16,
   "metadata": {
    "colab": {
     "base_uri": "https://localhost:8080/"
    },
    "id": "vP9_4Z3aEOnL",
    "outputId": "cb22af0b-1ab7-451c-eb3f-6a549578cb6b"
   },
   "outputs": [
    {
     "name": "stdout",
     "output_type": "stream",
     "text": [
      "0 input_1 - False\n",
      "1 block1_conv1 - False\n",
      "2 block1_conv2 - False\n",
      "3 block1_pool - False\n",
      "4 block2_conv1 - False\n",
      "5 block2_conv2 - False\n",
      "6 block2_pool - False\n",
      "7 block3_conv1 - False\n",
      "8 block3_conv2 - False\n",
      "9 block3_conv3 - False\n",
      "10 block3_conv4 - False\n",
      "11 block3_pool - False\n",
      "12 block4_conv1 - False\n",
      "13 block4_conv2 - False\n",
      "14 block4_conv3 - False\n",
      "15 block4_conv4 - False\n",
      "16 block4_pool - False\n",
      "17 block5_conv1 - False\n",
      "18 block5_conv2 - False\n",
      "19 block5_conv3 - False\n",
      "20 block5_conv4 - False\n",
      "21 block5_pool - False\n"
     ]
    }
   ],
   "source": [
    "for i, layer in enumerate(base_model.layers):\n",
    "    print(i, layer.name, \"-\", layer.trainable)"
   ]
  },
  {
   "cell_type": "code",
   "execution_count": 17,
   "metadata": {
    "id": "kQrXVfDdjcWC"
   },
   "outputs": [],
   "source": [
    "model = tf.keras.Sequential([\n",
    "    base_model,\n",
    "    Flatten(),\n",
    "    BatchNormalization(),\n",
    "    Dense(256, activation='relu'),\n",
    "    Dropout(0.5),\n",
    "    BatchNormalization(),\n",
    "    Dense(128, activation='relu'),\n",
    "    Dropout(0.5),\n",
    "    BatchNormalization(),\n",
    "    Dense(64, activation='relu'),\n",
    "    Dropout(0.5),\n",
    "    BatchNormalization(),\n",
    "    Dense(3, activation='softmax'),\n",
    "])"
   ]
  },
  {
   "cell_type": "code",
   "execution_count": 18,
   "metadata": {
    "colab": {
     "base_uri": "https://localhost:8080/"
    },
    "id": "s9PZUS4Njx6G",
    "outputId": "6f5cbec2-8f06-44c8-b9f2-80277b86d797"
   },
   "outputs": [
    {
     "name": "stdout",
     "output_type": "stream",
     "text": [
      "Model: \"sequential\"\n",
      "_________________________________________________________________\n",
      "Layer (type)                 Output Shape              Param #   \n",
      "=================================================================\n",
      "vgg19 (Functional)           (None, 15, 15, 512)       20024384  \n",
      "_________________________________________________________________\n",
      "flatten (Flatten)            (None, 115200)            0         \n",
      "_________________________________________________________________\n",
      "batch_normalization (BatchNo (None, 115200)            460800    \n",
      "_________________________________________________________________\n",
      "dense (Dense)                (None, 256)               29491456  \n",
      "_________________________________________________________________\n",
      "dropout (Dropout)            (None, 256)               0         \n",
      "_________________________________________________________________\n",
      "batch_normalization_1 (Batch (None, 256)               1024      \n",
      "_________________________________________________________________\n",
      "dense_1 (Dense)              (None, 128)               32896     \n",
      "_________________________________________________________________\n",
      "dropout_1 (Dropout)          (None, 128)               0         \n",
      "_________________________________________________________________\n",
      "batch_normalization_2 (Batch (None, 128)               512       \n",
      "_________________________________________________________________\n",
      "dense_2 (Dense)              (None, 64)                8256      \n",
      "_________________________________________________________________\n",
      "dropout_2 (Dropout)          (None, 64)                0         \n",
      "_________________________________________________________________\n",
      "batch_normalization_3 (Batch (None, 64)                256       \n",
      "_________________________________________________________________\n",
      "dense_3 (Dense)              (None, 3)                 195       \n",
      "=================================================================\n",
      "Total params: 50,019,779\n",
      "Trainable params: 29,764,099\n",
      "Non-trainable params: 20,255,680\n",
      "_________________________________________________________________\n"
     ]
    }
   ],
   "source": [
    "model.compile(loss='categorical_crossentropy', optimizer=Adam(learning_rate=5e-4), metrics=['accuracy'])\n",
    "model.summary()"
   ]
  },
  {
   "cell_type": "markdown",
   "metadata": {
    "id": "Fp_TIQ7BkZ5u"
   },
   "source": [
    "# Callbacks"
   ]
  },
  {
   "cell_type": "code",
   "execution_count": 19,
   "metadata": {
    "id": "KrRPTkQPkQY-"
   },
   "outputs": [],
   "source": [
    "patience = 3\n",
    "stop_patience = 5\n",
    "factor = 0.1\n",
    "callbacks = [\n",
    "    ModelCheckpoint(\"vgg19-2.h5\", save_best_only=True, verbose = 0),\n",
    "    EarlyStopping(patience=stop_patience, monitor='val_loss', verbose=1),\n",
    "    ReduceLROnPlateau(monitor='val_loss', factor=factor, patience=patience, min_lr=1e-6, verbose=1)\n",
    "]"
   ]
  },
  {
   "cell_type": "markdown",
   "metadata": {
    "id": "YORajlyck_69"
   },
   "source": [
    "# Model Training"
   ]
  },
  {
   "cell_type": "code",
   "execution_count": 20,
   "metadata": {
    "colab": {
     "base_uri": "https://localhost:8080/"
    },
    "id": "1ByJHSU5k0VS",
    "outputId": "18072eb1-6864-4a45-8747-e47cf46180f3"
   },
   "outputs": [
    {
     "name": "stdout",
     "output_type": "stream",
     "text": [
      "Epoch 1/30\n",
      "393/393 [==============================] - 1412s 4s/step - loss: 0.8501 - accuracy: 0.6373 - val_loss: 0.3980 - val_accuracy: 0.8609\n",
      "Epoch 2/30\n",
      "393/393 [==============================] - 1409s 4s/step - loss: 0.4779 - accuracy: 0.8184 - val_loss: 0.2820 - val_accuracy: 0.8961\n",
      "Epoch 3/30\n",
      "393/393 [==============================] - 1406s 4s/step - loss: 0.3839 - accuracy: 0.8603 - val_loss: 0.2789 - val_accuracy: 0.8968\n",
      "Epoch 4/30\n",
      "393/393 [==============================] - 1485s 4s/step - loss: 0.3335 - accuracy: 0.8820 - val_loss: 0.2575 - val_accuracy: 0.9025\n",
      "Epoch 5/30\n",
      "393/393 [==============================] - 1481s 4s/step - loss: 0.3192 - accuracy: 0.8854 - val_loss: 0.2455 - val_accuracy: 0.9104\n",
      "Epoch 6/30\n",
      "393/393 [==============================] - 1419s 4s/step - loss: 0.3005 - accuracy: 0.8961 - val_loss: 0.2426 - val_accuracy: 0.9118\n",
      "Epoch 7/30\n",
      "393/393 [==============================] - 1432s 4s/step - loss: 0.2808 - accuracy: 0.8983 - val_loss: 0.2300 - val_accuracy: 0.9147\n",
      "Epoch 8/30\n",
      "393/393 [==============================] - 1429s 4s/step - loss: 0.2778 - accuracy: 0.9011 - val_loss: 0.2251 - val_accuracy: 0.9226\n",
      "Epoch 9/30\n",
      "393/393 [==============================] - 1438s 4s/step - loss: 0.2490 - accuracy: 0.9096 - val_loss: 0.2336 - val_accuracy: 0.9154\n",
      "Epoch 10/30\n",
      "393/393 [==============================] - 1451s 4s/step - loss: 0.2438 - accuracy: 0.9115 - val_loss: 0.2397 - val_accuracy: 0.9140\n",
      "Epoch 11/30\n",
      "393/393 [==============================] - 1509s 4s/step - loss: 0.2304 - accuracy: 0.9191 - val_loss: 0.2338 - val_accuracy: 0.9154\n",
      "\n",
      "Epoch 00011: ReduceLROnPlateau reducing learning rate to 5.0000002374872565e-05.\n",
      "Epoch 12/30\n",
      "393/393 [==============================] - 1451s 4s/step - loss: 0.2030 - accuracy: 0.9286 - val_loss: 0.2286 - val_accuracy: 0.9183\n",
      "Epoch 13/30\n",
      "393/393 [==============================] - 1438s 4s/step - loss: 0.2101 - accuracy: 0.9261 - val_loss: 0.2271 - val_accuracy: 0.9233\n",
      "Epoch 00013: early stopping\n"
     ]
    }
   ],
   "source": [
    "#Chỉ chạy lần đầu tiên thôi nha, train tiếp thì kh chạy dòng này mà chạy dòng ở dưới\n",
    "epochs = 30\n",
    "history = model.fit(train_generator, validation_data=valid_generator, epochs=epochs, callbacks=callbacks, verbose=1)"
   ]
  },
  {
   "cell_type": "code",
   "execution_count": null,
   "metadata": {
    "id": "3jv6Wbx400OP"
   },
   "outputs": [],
   "source": [
    "while True:pass"
   ]
  },
  {
   "cell_type": "code",
   "execution_count": null,
   "metadata": {
    "colab": {
     "base_uri": "https://localhost:8080/"
    },
    "id": "j0qRz6_0XYEE",
    "outputId": "aa86c88a-228b-4723-b79b-53cce4af6856"
   },
   "outputs": [
    {
     "name": "stdout",
     "output_type": "stream",
     "text": [
      "Epoch 1/30\n",
      "    746/Unknown - 10984s 15s/step - loss: 0.4144 - accuracy: 0.8500"
     ]
    }
   ],
   "source": [
    "epochs =  30\n",
    "loaded_model = load_model('vgg19-2.h5')\n",
    "history = loaded_model.fit(train_generator, validation_data=valid_generator, epochs=epochs, callbacks=callbacks, verbose=1)"
   ]
  },
  {
   "cell_type": "code",
   "execution_count": 21,
   "metadata": {
    "id": "AXxQxg-yr1LU"
   },
   "outputs": [
    {
     "data": {
      "image/png": "[encoded data removed]",
      "text/plain": [
       "<Figure size 432x288 with 1 Axes>"
      ]
     },
     "metadata": {},
     "output_type": "display_data"
    },
    {
     "data": {
      "image/png": "[encoded data removed]",
      "text/plain": [
       "<Figure size 432x288 with 1 Axes>"
      ]
     },
     "metadata": {},
     "output_type": "display_data"
    }
   ],
   "source": [
    "plt.plot(history.history['loss'], label='Loss (training data)')\n",
    "plt.plot(history.history['val_loss'], label='Loss (validation data)')\n",
    "plt.title('Loss for Training')\n",
    "plt.ylabel('Loss')\n",
    "plt.xlabel('No. epoch')\n",
    "plt.legend(['train', 'validation'], loc=\"upper left\")\n",
    "plt.show()\n",
    "\n",
    "plt.plot(history.history['accuracy'])\n",
    "plt.plot(history.history['val_accuracy'])\n",
    "plt.title('model accuracy')\n",
    "plt.ylabel('accuracy')\n",
    "plt.xlabel('epoch')\n",
    "plt.legend(['train', 'validation'], loc='upper left')\n",
    "plt.show()"
   ]
  },
  {
   "cell_type": "markdown",
   "metadata": {
    "id": "FEOjWy9ssfir"
   },
   "source": [
    "# Predictions on Test Set"
   ]
  },
  {
   "cell_type": "code",
   "execution_count": 22,
   "metadata": {
    "colab": {
     "base_uri": "https://localhost:8080/"
    },
    "id": "Oz9ADtRYsBpF",
    "outputId": "3539c682-ed3e-48b9-8119-41f43956aa5d"
   },
   "outputs": [
    {
     "name": "stdout",
     "output_type": "stream",
     "text": [
      "15/15 [==============================] - 56s 3s/step - loss: 0.3788 - accuracy: 0.8601\n"
     ]
    },
    {
     "data": {
      "text/plain": [
       "[0.3787630498409271, 0.8601253032684326]"
      ]
     },
     "execution_count": 22,
     "metadata": {},
     "output_type": "execute_result"
    }
   ],
   "source": [
    "best_model = model\n",
    "best_model.load_weights('vgg19-2.h5')\n",
    "best_model.evaluate(test_generator)"
   ]
  },
  {
   "cell_type": "code",
   "execution_count": null,
   "metadata": {
    "id": "7Q6cLShIr0SV"
   },
   "outputs": [],
   "source": [
    "# history_val_loss = [0.4710, 0.3789, 0.4030, 0.4503, 0.4293]\n",
    "# history_val_acc = [0.8222, 0.8566, 0.8502, 0.8394, 0.8487]\n",
    "# history_train_loss = [0.4943, 0.4051, 0.3780, 0.3570, 0.3204]\n",
    "# history_train_acc = [0.8077, 0.8422, 0.8529, 0.8643, 0.8782]"
   ]
  },
  {
   "cell_type": "code",
   "execution_count": null,
   "metadata": {
    "id": "TIt9kWcWswBE"
   },
   "outputs": [],
   "source": [
    "def print_info( test_gen, preds, print_code, save_dir, subject ):\n",
    "    class_dict=test_gen.class_indices\n",
    "    labels= test_gen.labels\n",
    "    file_names= test_gen.filenames \n",
    "    error_list=[]\n",
    "    true_class=[]\n",
    "    pred_class=[]\n",
    "    prob_list=[]\n",
    "    new_dict={}\n",
    "    error_indices=[]\n",
    "    y_pred=[]\n",
    "\n",
    "    for key,value in class_dict.items():\n",
    "        new_dict[value]=key             # dictionary {integer of class number: string of class name}\n",
    "    # store new_dict as a text fine in the save_dir\n",
    "    classes=list(new_dict.values())     # list of string of class names\n",
    "    dict_as_text=str(new_dict)\n",
    "    dict_name= subject + '-' +str(len(classes)) +'.txt'  \n",
    "    dict_path=os.path.join(save_dir, dict_name)    \n",
    "    with open(dict_path, 'w') as x_file:\n",
    "        x_file.write(dict_as_text)    \n",
    "    errors=0      \n",
    "\n",
    "    for i, p in enumerate(preds):\n",
    "        pred_index=np.argmax(p)        \n",
    "        true_index=labels[i]  # labels are integer values\n",
    "        if pred_index != true_index: # a misclassification has occurred\n",
    "            error_list.append(file_names[i])\n",
    "            true_class.append(new_dict[true_index])\n",
    "            pred_class.append(new_dict[pred_index])\n",
    "            prob_list.append(p[pred_index])\n",
    "            error_indices.append(true_index)            \n",
    "            errors=errors + 1\n",
    "        y_pred.append(pred_index)    \n",
    "\n",
    "    if print_code !=0:\n",
    "        if errors>0:\n",
    "            if print_code>errors:\n",
    "                r=errors\n",
    "            else:\n",
    "                r=print_code           \n",
    "            msg='{0:^28s}{1:^28s}{2:^28s}{3:^16s}'.format('Filename', 'Predicted Class' , 'True Class', 'Probability')\n",
    "            print_in_color(msg, (0,255,0),(55,65,80))\n",
    "            for i in range(r):\n",
    "                msg='{0:^28s}{1:^28s}{2:^28s}{3:4s}{4:^6.4f}'.format(error_list[i], pred_class[i],true_class[i], ' ', prob_list[i])\n",
    "                print_in_color(msg, (255,255,255), (55,65,60))\n",
    "                #print(error_list[i]  , pred_class[i], true_class[i], prob_list[i])               \n",
    "        else:\n",
    "            msg='With accuracy of 100 % there are no errors to print'\n",
    "            print_in_color(msg, (0,255,0),(55,65,80))\n",
    "            \n",
    "    if errors>0:\n",
    "        plot_bar=[]\n",
    "        plot_class=[]\n",
    "        for  key, value in new_dict.items():        \n",
    "            count=error_indices.count(key) \n",
    "            if count!=0:\n",
    "                plot_bar.append(count) # list containg how many times a class c had an error\n",
    "                plot_class.append(value)   # stores the class \n",
    "        fig=plt.figure()\n",
    "        fig.set_figheight(len(plot_class)/3)\n",
    "        fig.set_figwidth(10)\n",
    "        plt.style.use('fivethirtyeight')\n",
    "        for i in range(0, len(plot_class)):\n",
    "            c=plot_class[i]\n",
    "            x=plot_bar[i]\n",
    "            plt.barh(c, x, )\n",
    "            plt.title( ' Errors by Class on Test Set')\n",
    "    \n",
    "    if len(classes)<= 30:\n",
    "        # create a confusion matrix and a test report        \n",
    "        y_true= np.array(labels)        \n",
    "        y_pred=np.array(y_pred)        \n",
    "        cm = confusion_matrix(y_true, y_pred )\n",
    "        clr = classification_report(y_true, y_pred, target_names=classes)\n",
    "        length=len(classes)\n",
    "        if length<8:\n",
    "            fig_width=8\n",
    "            fig_height=8\n",
    "        else:\n",
    "            fig_width= int(length * .5)\n",
    "            fig_height= int(length * .5)\n",
    "        plt.figure(figsize=(fig_width, fig_height))\n",
    "        sns.heatmap(cm, annot=True, vmin=0, fmt='g', cmap='Blues', cbar=False)       \n",
    "        plt.xticks(np.arange(length)+.5, classes, rotation= 90)\n",
    "        plt.yticks(np.arange(length)+.5, classes, rotation=0)\n",
    "        plt.xlabel(\"Predicted\")\n",
    "        plt.ylabel(\"Actual\")\n",
    "        plt.title(\"Confusion Matrix\")\n",
    "        plt.show()    \n",
    "        print(\"Classification Report:\\n----------------------\\n\", clr)"
   ]
  },
  {
   "cell_type": "code",
   "execution_count": null,
   "metadata": {
    "colab": {
     "base_uri": "https://localhost:8080/",
     "height": 943
    },
    "id": "0WHmjApCurHV",
    "outputId": "22fc7b7f-878e-47f2-f4d2-27d4b1957efe"
   },
   "outputs": [
    {
     "data": {
      "image/png": "[encoded data removed]",
      "text/plain": [
       "<Figure size 720x72 with 1 Axes>"
      ]
     },
     "metadata": {
      "tags": []
     },
     "output_type": "display_data"
    },
    {
     "data": {
      "image/png": "[encoded data removed]",
      "text/plain": [
       "<Figure size 576x576 with 1 Axes>"
      ]
     },
     "metadata": {
      "tags": []
     },
     "output_type": "display_data"
    },
    {
     "name": "stdout",
     "output_type": "stream",
     "text": [
      "Classification Report:\n",
      "----------------------\n",
      "               precision    recall  f1-score   support\n",
      "\n",
      "    COVID-19       0.57      0.47      0.52       274\n",
      "      normal       0.17      0.22      0.19       100\n",
      "   pneumonia       0.25      0.28      0.26       105\n",
      "\n",
      "    accuracy                           0.38       479\n",
      "   macro avg       0.33      0.32      0.32       479\n",
      "weighted avg       0.41      0.38      0.39       479\n",
      "\n"
     ]
    }
   ],
   "source": [
    "print_code = 0\n",
    "subject = 'covid'\n",
    "save_dir = '/content/drive/MyDrive/COURSES/CS231/'\n",
    "preds = best_model.predict(test_generator)\n",
    "print_info(test_generator, preds, print_code, save_dir, subject)"
   ]
  }
 ],
 "metadata": {
  "accelerator": "GPU",
  "colab": {
   "collapsed_sections": [],
   "name": "vgg19_final.ipynb",
   "provenance": []
  },
  "kernelspec": {
   "display_name": "Python 3",
   "language": "python",
   "name": "python3"
  },
  "language_info": {
   "codemirror_mode": {
    "name": "ipython",
    "version": 3
   },
   "file_extension": ".py",
   "mimetype": "text/x-python",
   "name": "python",
   "nbconvert_exporter": "python",
   "pygments_lexer": "ipython3",
   "version": "3.9.5"
  }
 },
 "nbformat": 4,
 "nbformat_minor": 1
}
